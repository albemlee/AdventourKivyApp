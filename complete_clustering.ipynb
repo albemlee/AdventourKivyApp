{
 "cells": [
  {
   "cell_type": "code",
   "execution_count": 2,
   "metadata": {},
   "outputs": [],
   "source": [
    "import urllib3\n",
    "from bs4 import BeautifulSoup\n",
    "import csv\n",
    "import wikipedia\n",
    "import pandas as pd\n",
    "from sklearn.feature_extraction.text import TfidfVectorizer\n",
    "from sklearn.cluster import KMeans\n",
    "from sklearn.pipeline import Pipeline\n",
    "from sklearn.feature_extraction import stop_words"
   ]
  },
  {
   "cell_type": "code",
   "execution_count": 3,
   "metadata": {},
   "outputs": [],
   "source": [
    "base_data = pd.read_csv(\"base_wiki_data.csv\")\n",
    "detroit_data = pd.read_csv(\"detroit_wiki_data.csv\")"
   ]
  },
  {
   "cell_type": "code",
   "execution_count": 4,
   "metadata": {},
   "outputs": [],
   "source": [
    "def train_model(detroit_data):\n",
    "    X = detroit_data[\"summary\"]\n",
    "    \n",
    "    TOKENS_ALPHANUMERIC = '[A-Za-z0-9]+(?=\\\\s+)'\n",
    "\n",
    "    cluster_pipeline = Pipeline([\n",
    "        ('vectorize', TfidfVectorizer(token_pattern=TOKENS_ALPHANUMERIC,\n",
    "                                      ngram_range=(1, 2), \n",
    "                                      stop_words=stop_words.ENGLISH_STOP_WORDS)), \n",
    "        ('cluster', KMeans(n_clusters=7, random_state=22))\n",
    "    ])\n",
    "\n",
    "    cluster_pipeline.fit(X)\n",
    "    \n",
    "    return(cluster_pipeline)"
   ]
  },
  {
   "cell_type": "code",
   "execution_count": 5,
   "metadata": {},
   "outputs": [],
   "source": [
    "def predict_cluster(attraction_row, cluster_pipeline):\n",
    "    X = attraction_row[\"summary\"]\n",
    "    \n",
    "    return(cluster_pipeline.predict(X))"
   ]
  },
  {
   "cell_type": "code",
   "execution_count": 6,
   "metadata": {},
   "outputs": [
    {
     "name": "stdout",
     "output_type": "stream",
     "text": [
      "random attraction: ['Albuquerque Sunrise Balloon Rides']\n"
     ]
    },
    {
     "data": {
      "text/plain": [
       "3      Charles H. Wright Museum of African American H...\n",
       "11                                    Detroit RiverFront\n",
       "17                             Dossin Great Lakes Museum\n",
       "18                                           Mexicantown\n",
       "21                          DNR Outdoor Adventure Center\n",
       "24                    Anna Scripps Whitcomb Conservatory\n",
       "27                                      Detroit Downtown\n",
       "29                                 The Spirit of Detroit\n",
       "31                                Detroit-Windsor Tunnel\n",
       "32                                  The Fillmore Detroit\n",
       "33                                   The Redford Theatre\n",
       "38                                     Two James Spirits\n",
       "39                               Michigan Science Center\n",
       "40                                        Masonic Temple\n",
       "41                                             The Z Lot\n",
       "44                                   Sound Board Theater\n",
       "45                              MGM Grand Detroit Casino\n",
       "52                                   African Bead Museum\n",
       "55                                      MotorCity Casino\n",
       "57                         James Scott Memorial Fountain\n",
       "71                            Museum of Contemporary Art\n",
       "72               William Livingstone Memorial Lighthouse\n",
       "74                                      Greektown Casino\n",
       "76                        Michigan Labor Legacy Monument\n",
       "78                               Lincoln Street Art Park\n",
       "83                                    Penobscot Building\n",
       "93                                              Poletown\n",
       "97                    Wayne County Family Aquatic Center\n",
       "98                                      Lafayette Greens\n",
       "99                            Definitive Style Exclusive\n",
       "105                            Russell Industrial Center\n",
       "109      International Institute of Metropolitan Detroit\n",
       "110                               Earthworks Urban Farms\n",
       "112                        Riverfront-Lakewood East Park\n",
       "116                             Midtown Detroit Dog Park\n",
       "117                            Walter P. Reuther Library\n",
       "118                               Matrix Theatre Company\n",
       "119                           Detroit Industrial Gallery\n",
       "120                                       Fisher Mansion\n",
       "121                                    PuppetART Theater\n",
       "122                  DABLS MBAD AFRICAN BEAD MUSEUM ++++\n",
       "123      Swords Into Plowshares Peace Center and Gallery\n",
       "Name: attraction, dtype: object"
      ]
     },
     "execution_count": 6,
     "metadata": {},
     "output_type": "execute_result"
    }
   ],
   "source": [
    "detroit_data_w_clusters = detroit_data.copy()\n",
    "\n",
    "cluster_pipeline = train_model(detroit_data)\n",
    "detroit_data_w_clusters['cluster'] = predict_cluster(detroit_data, cluster_pipeline)\n",
    "\n",
    "sample_attraction = base_data.sample(1)\n",
    "print('random attraction:', sample_attraction['attraction'].values)\n",
    "\n",
    "selected_cluster = predict_cluster(sample_attraction, cluster_pipeline)\n",
    "detroit_data_w_clusters.loc[detroit_data_w_clusters['cluster']==selected_cluster[0], 'attraction']"
   ]
  },
  {
   "cell_type": "code",
   "execution_count": 7,
   "metadata": {},
   "outputs": [
    {
     "data": {
      "text/html": [
       "<div>\n",
       "<style scoped>\n",
       "    .dataframe tbody tr th:only-of-type {\n",
       "        vertical-align: middle;\n",
       "    }\n",
       "\n",
       "    .dataframe tbody tr th {\n",
       "        vertical-align: top;\n",
       "    }\n",
       "\n",
       "    .dataframe thead th {\n",
       "        text-align: right;\n",
       "    }\n",
       "</style>\n",
       "<table border=\"1\" class=\"dataframe\">\n",
       "  <thead>\n",
       "    <tr style=\"text-align: right;\">\n",
       "      <th></th>\n",
       "      <th>attraction</th>\n",
       "      <th>url</th>\n",
       "      <th>summary</th>\n",
       "      <th>image</th>\n",
       "    </tr>\n",
       "  </thead>\n",
       "  <tbody>\n",
       "    <tr>\n",
       "      <th>96</th>\n",
       "      <td>Albuquerque Sunrise Balloon Rides</td>\n",
       "      <td>https://en.wikipedia.org/wiki/Albuquerque_Inte...</td>\n",
       "      <td>The Albuquerque International Balloon Fiesta i...</td>\n",
       "      <td>https://upload.wikimedia.org/wikipedia/commons...</td>\n",
       "    </tr>\n",
       "  </tbody>\n",
       "</table>\n",
       "</div>"
      ],
      "text/plain": [
       "                           attraction  \\\n",
       "96  Albuquerque Sunrise Balloon Rides   \n",
       "\n",
       "                                                  url  \\\n",
       "96  https://en.wikipedia.org/wiki/Albuquerque_Inte...   \n",
       "\n",
       "                                              summary  \\\n",
       "96  The Albuquerque International Balloon Fiesta i...   \n",
       "\n",
       "                                                image  \n",
       "96  https://upload.wikimedia.org/wikipedia/commons...  "
      ]
     },
     "execution_count": 7,
     "metadata": {},
     "output_type": "execute_result"
    }
   ],
   "source": [
    "sample_attraction"
   ]
  },
  {
   "cell_type": "code",
   "execution_count": 8,
   "metadata": {},
   "outputs": [
    {
     "data": {
      "text/plain": [
       "array([4], dtype=int32)"
      ]
     },
     "execution_count": 8,
     "metadata": {},
     "output_type": "execute_result"
    }
   ],
   "source": [
    "cluster_pipeline.predict(sample_attraction['summary'])"
   ]
  },
  {
   "cell_type": "code",
   "execution_count": 9,
   "metadata": {},
   "outputs": [
    {
     "data": {
      "text/plain": [
       "96    The Albuquerque International Balloon Fiesta i...\n",
       "Name: summary, dtype: object"
      ]
     },
     "execution_count": 9,
     "metadata": {},
     "output_type": "execute_result"
    }
   ],
   "source": [
    "sample_attraction['summary']"
   ]
  },
  {
   "cell_type": "code",
   "execution_count": 10,
   "metadata": {},
   "outputs": [
    {
     "data": {
      "text/plain": [
       "array([4, 2, 4, 4, 4, 4, 4, 4, 4, 4, 3, 4, 0, 4, 4, 4, 3, 4, 4, 4, 3, 4,\n",
       "       4, 4, 4, 4, 4, 0, 3, 4, 4, 4, 4, 4, 4, 2, 4, 3, 3, 4, 4, 4, 4, 2,\n",
       "       4, 4, 0, 4, 3, 4, 4, 4, 4, 2, 2, 3, 2, 6, 2, 2, 2, 2, 2, 2, 2, 4,\n",
       "       4, 4, 3, 4, 4, 2, 4, 4, 4, 2, 2, 4, 4, 4, 4, 4, 4, 4, 4, 4, 2, 4,\n",
       "       4, 4, 4, 4, 4, 4, 4, 4, 4, 4, 4, 4, 3, 4, 4, 4, 4, 4, 4, 3, 4, 4,\n",
       "       4, 4, 4, 2, 4, 4, 4, 4, 4, 4, 4, 4, 4, 4, 4, 3, 4, 4, 4, 3, 4, 4,\n",
       "       4, 4, 3, 4, 3, 3, 4, 4, 4, 4, 2, 4, 4, 2, 4, 4, 4, 4, 4, 4, 4, 4,\n",
       "       4, 3, 4, 4, 4, 4, 3, 4, 4, 0, 4, 4, 4, 4, 4, 3, 4], dtype=int32)"
      ]
     },
     "execution_count": 10,
     "metadata": {},
     "output_type": "execute_result"
    }
   ],
   "source": [
    "base_data_w_clusters = base_data.copy()\n",
    "base_data_w_clusters['cluster'] = predict_cluster(base_data_w_clusters, cluster_pipeline)\n",
    "\n",
    "predict_cluster(base_data, cluster_pipeline)"
   ]
  },
  {
   "cell_type": "code",
   "execution_count": 11,
   "metadata": {},
   "outputs": [
    {
     "data": {
      "text/plain": [
       "0                                          Time Square\n",
       "2                                        Union Station\n",
       "3                                      Las Vegas Strip\n",
       "4                               Grand Central Terminal\n",
       "5                   \"Magic Kingdom, Walt Disney World\"\n",
       "6                                    Disneyland Resort\n",
       "7                                   Golden Gate Bridge\n",
       "8                             Faneuil Hall Marketplace\n",
       "9                                     Golden Gate Park\n",
       "11                          \"Epcot, Walt Disney World\"\n",
       "13        \"Disney's Animal Kingdom, Walt Disney World\"\n",
       "14     \"Disney's Hollywood Studios, Walt Disney World\"\n",
       "15                 Great Smoky Mountains National Park\n",
       "17                                     Mackinac Bridge\n",
       "18                                           Navy Pier\n",
       "19                        \"Pier 39, Fisherman's Wharf\"\n",
       "21                                Cranbrook Art Museum\n",
       "22                             Grand Rapids Art Museum\n",
       "23                             Chinese Cultural Garden\n",
       "24                               Emma Prusch Farm Park\n",
       "25                       Stanford University Arboretum\n",
       "26                                New Museum Los Gatos\n",
       "29                               Circle of Palms Plaza\n",
       "30                                       De Anza Hotel\n",
       "31                                          Hangar One\n",
       "32                                      Choral Project\n",
       "33                                      Opera San Jose\n",
       "34                             Symphony SIlicon Valley\n",
       "36                                     Calhoun Mansion\n",
       "39                                Duck Lake State Park\n",
       "                            ...                       \n",
       "132                                   Aleutian Islands\n",
       "133                                        Rodeo Drive\n",
       "135                                          Sea World\n",
       "138                                   Montezuma Castle\n",
       "139                         \"Chinatown, San Francisco\"\n",
       "140                                   Coca-Cola Museum\n",
       "141                                               Hana\n",
       "143                              \"Crater Lake, Oregon\"\n",
       "144                                    Dakota Building\n",
       "146                                       Wailea Beach\n",
       "147                                          Mono Lake\n",
       "148                                Washington Monument\n",
       "149                                       The Pentagon\n",
       "150                                      Beverly Hills\n",
       "151                                      Kodiak Island\n",
       "152                               The fault San Andres\n",
       "153                                    The White House\n",
       "154                              The Statue of Liberty\n",
       "156                                      La Yola Beach\n",
       "157                American Museum of Natural Sciences\n",
       "158                                        Elis Island\n",
       "159                                    Hoover Dam Lake\n",
       "161                                          Hollywood\n",
       "162                                      The Flat Iron\n",
       "164                                      Atlantic City\n",
       "165                                          Mauna Loa\n",
       "166                                    Waldorf Astoria\n",
       "167                                  Mississippi River\n",
       "168                                       Monterey Bay\n",
       "170                                    Mount Waialeale\n",
       "Name: attraction, Length: 127, dtype: object"
      ]
     },
     "execution_count": 11,
     "metadata": {},
     "output_type": "execute_result"
    }
   ],
   "source": [
    "base_data_w_clusters.loc[base_data_w_clusters['cluster'] == 4, 'attraction']"
   ]
  },
  {
   "cell_type": "markdown",
   "metadata": {},
   "source": [
    "# With Loop"
   ]
  },
  {
   "cell_type": "code",
   "execution_count": 12,
   "metadata": {},
   "outputs": [],
   "source": [
    "base_data = pd.read_csv(\"base_wiki_data.csv\")\n",
    "detroit_data = pd.read_csv(\"detroit_wiki_data.csv\")"
   ]
  },
  {
   "cell_type": "code",
   "execution_count": 13,
   "metadata": {},
   "outputs": [],
   "source": [
    "recommendations = detroit_data.copy()\n",
    "\n",
    "while len(recommendations) > 15:\n",
    "    cluster_model = train_model(recommendations)\n",
    "    \n",
    "    recommendations_w_clusters = recommendations\n",
    "    recommendations_w_clusters['cluster'] = predict_cluster(recommendations, cluster_model) \n",
    "    \n",
    "    random_location = recommendations_w_clusters.sample(1) # This would happen in java\n",
    "    \n",
    "    recommendations = recommendations_w_clusters.loc[recommendations_w_clusters['cluster'] == random_location['cluster'].values[0], \n",
    "                                                     ['attraction', 'url', 'summary', 'image']].copy()\n",
    "    len(recommendations)"
   ]
  },
  {
   "cell_type": "code",
   "execution_count": 14,
   "metadata": {},
   "outputs": [
    {
     "data": {
      "text/html": [
       "<div>\n",
       "<style scoped>\n",
       "    .dataframe tbody tr th:only-of-type {\n",
       "        vertical-align: middle;\n",
       "    }\n",
       "\n",
       "    .dataframe tbody tr th {\n",
       "        vertical-align: top;\n",
       "    }\n",
       "\n",
       "    .dataframe thead th {\n",
       "        text-align: right;\n",
       "    }\n",
       "</style>\n",
       "<table border=\"1\" class=\"dataframe\">\n",
       "  <thead>\n",
       "    <tr style=\"text-align: right;\">\n",
       "      <th></th>\n",
       "      <th>attraction</th>\n",
       "      <th>url</th>\n",
       "      <th>summary</th>\n",
       "      <th>image</th>\n",
       "    </tr>\n",
       "  </thead>\n",
       "  <tbody>\n",
       "    <tr>\n",
       "      <th>77</th>\n",
       "      <td>Woodlawn Cemetery</td>\n",
       "      <td>https://en.wikipedia.org/wiki/Woodlawn_Cemeter...</td>\n",
       "      <td>Woodlawn Cemetery is a cemetery located at 199...</td>\n",
       "      <td>https://upload.wikimedia.org/wikipedia/commons...</td>\n",
       "    </tr>\n",
       "    <tr>\n",
       "      <th>86</th>\n",
       "      <td>Elmwood Cemetary</td>\n",
       "      <td>https://en.wikipedia.org/wiki/Elmwood_Cemetery...</td>\n",
       "      <td>Elmwood Cemetery in Detroit is one of Michigan...</td>\n",
       "      <td>https://upload.wikimedia.org/wikipedia/commons...</td>\n",
       "    </tr>\n",
       "    <tr>\n",
       "      <th>87</th>\n",
       "      <td>PuppetART Theater</td>\n",
       "      <td>https://en.wikipedia.org/wiki/Elmwood_Cemetery...</td>\n",
       "      <td>Elmwood Cemetery in Detroit is one of Michigan...</td>\n",
       "      <td>https://upload.wikimedia.org/wikipedia/commons...</td>\n",
       "    </tr>\n",
       "    <tr>\n",
       "      <th>88</th>\n",
       "      <td>Dabl's Gallery</td>\n",
       "      <td>https://en.wikipedia.org/wiki/Elmwood_Cemetery...</td>\n",
       "      <td>Elmwood Cemetery in Detroit is one of Michigan...</td>\n",
       "      <td>https://upload.wikimedia.org/wikipedia/commons...</td>\n",
       "    </tr>\n",
       "    <tr>\n",
       "      <th>100</th>\n",
       "      <td>Mount Hazel Cemetery</td>\n",
       "      <td>https://en.wikipedia.org/wiki/M-102_(Michigan_...</td>\n",
       "      <td>M-102 is an east–west state trunkline highway ...</td>\n",
       "      <td>https://upload.wikimedia.org/wikipedia/commons...</td>\n",
       "    </tr>\n",
       "  </tbody>\n",
       "</table>\n",
       "</div>"
      ],
      "text/plain": [
       "               attraction                                                url  \\\n",
       "77      Woodlawn Cemetery  https://en.wikipedia.org/wiki/Woodlawn_Cemeter...   \n",
       "86       Elmwood Cemetary  https://en.wikipedia.org/wiki/Elmwood_Cemetery...   \n",
       "87      PuppetART Theater  https://en.wikipedia.org/wiki/Elmwood_Cemetery...   \n",
       "88         Dabl's Gallery  https://en.wikipedia.org/wiki/Elmwood_Cemetery...   \n",
       "100  Mount Hazel Cemetery  https://en.wikipedia.org/wiki/M-102_(Michigan_...   \n",
       "\n",
       "                                               summary  \\\n",
       "77   Woodlawn Cemetery is a cemetery located at 199...   \n",
       "86   Elmwood Cemetery in Detroit is one of Michigan...   \n",
       "87   Elmwood Cemetery in Detroit is one of Michigan...   \n",
       "88   Elmwood Cemetery in Detroit is one of Michigan...   \n",
       "100  M-102 is an east–west state trunkline highway ...   \n",
       "\n",
       "                                                 image  \n",
       "77   https://upload.wikimedia.org/wikipedia/commons...  \n",
       "86   https://upload.wikimedia.org/wikipedia/commons...  \n",
       "87   https://upload.wikimedia.org/wikipedia/commons...  \n",
       "88   https://upload.wikimedia.org/wikipedia/commons...  \n",
       "100  https://upload.wikimedia.org/wikipedia/commons...  "
      ]
     },
     "execution_count": 14,
     "metadata": {},
     "output_type": "execute_result"
    }
   ],
   "source": [
    "recommendations"
   ]
  },
  {
   "cell_type": "code",
   "execution_count": null,
   "metadata": {},
   "outputs": [],
   "source": []
  },
  {
   "cell_type": "code",
   "execution_count": null,
   "metadata": {},
   "outputs": [],
   "source": []
  },
  {
   "cell_type": "code",
   "execution_count": null,
   "metadata": {},
   "outputs": [],
   "source": []
  }
 ],
 "metadata": {
  "kernelspec": {
   "display_name": "Python 3",
   "language": "python",
   "name": "python3"
  },
  "language_info": {
   "codemirror_mode": {
    "name": "ipython",
    "version": 3
   },
   "file_extension": ".py",
   "mimetype": "text/x-python",
   "name": "python",
   "nbconvert_exporter": "python",
   "pygments_lexer": "ipython3",
   "version": "3.6.5"
  }
 },
 "nbformat": 4,
 "nbformat_minor": 2
}
