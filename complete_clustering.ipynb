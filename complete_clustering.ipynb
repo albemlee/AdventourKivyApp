{
 "cells": [
  {
   "cell_type": "code",
   "execution_count": 12,
   "metadata": {},
   "outputs": [],
   "source": [
    "import urllib3\n",
    "from bs4 import BeautifulSoup\n",
    "import csv\n",
    "import wikipedia\n",
    "import pandas as pd\n",
    "from sklearn.feature_extraction.text import TfidfVectorizer\n",
    "from sklearn.cluster import KMeans\n",
    "from sklearn.pipeline import Pipeline\n",
    "from sklearn.feature_extraction import stop_words"
   ]
  },
  {
   "cell_type": "code",
   "execution_count": 13,
   "metadata": {},
   "outputs": [],
   "source": [
    "base_data = pd.read_csv(\"base_wiki_data.csv\")\n",
    "detroit_data = pd.read_csv(\"detroit_wiki_data.csv\")"
   ]
  },
  {
   "cell_type": "code",
   "execution_count": 14,
   "metadata": {},
   "outputs": [],
   "source": [
    "def train_model(detroit_data):\n",
    "    X = detroit_data[\"summary\"]\n",
    "    \n",
    "    TOKENS_ALPHANUMERIC = '[A-Za-z0-9]+(?=\\\\s+)'\n",
    "\n",
    "    cluster_pipeline = Pipeline([\n",
    "        ('vectorize', TfidfVectorizer(token_pattern=TOKENS_ALPHANUMERIC,\n",
    "                                      ngram_range=(1, 2), \n",
    "                                      stop_words=stop_words.ENGLISH_STOP_WORDS)), \n",
    "        ('cluster', KMeans(n_clusters=7, random_state=22))\n",
    "    ])\n",
    "\n",
    "    cluster_pipeline.fit(X)\n",
    "    \n",
    "    return(cluster_pipeline)"
   ]
  },
  {
   "cell_type": "code",
   "execution_count": 15,
   "metadata": {},
   "outputs": [],
   "source": [
    "def predict_cluster(attraction_row, cluster_pipeline):\n",
    "    X = attraction_row[\"summary\"]\n",
    "    \n",
    "    return(cluster_pipeline.predict(X))"
   ]
  },
  {
   "cell_type": "code",
   "execution_count": 16,
   "metadata": {},
   "outputs": [
    {
     "name": "stdout",
     "output_type": "stream",
     "text": [
      "random attraction: ['\"Magic Kingdom, Walt Disney World\"']\n"
     ]
    },
    {
     "data": {
      "text/plain": [
       "3      Charles H. Wright Museum of African American H...\n",
       "6                                          Comerica Park\n",
       "11                                    Detroit RiverFront\n",
       "13                                       Belle Isle Park\n",
       "16                                  Detroit People Mover\n",
       "18                                           Mexicantown\n",
       "21                          DNR Outdoor Adventure Center\n",
       "22                                       Joe Louis Arena\n",
       "25                                           Cobo Center\n",
       "27                                      Detroit Downtown\n",
       "28                                 GM Renaissance Center\n",
       "29                                 The Spirit of Detroit\n",
       "30                                  Little Caesars Arena\n",
       "31                                Detroit-Windsor Tunnel\n",
       "32                                  The Fillmore Detroit\n",
       "33                                   The Redford Theatre\n",
       "35             William G. Milliken State Park and Harbor\n",
       "37                                       Woodward Avenue\n",
       "38                                     Two James Spirits\n",
       "41                                             The Z Lot\n",
       "42                                    Joe Louis Monument\n",
       "43                                            Hart Plaza\n",
       "45                              MGM Grand Detroit Casino\n",
       "46                               Detroit City Distillery\n",
       "51                               Chene Park Amphitheatre\n",
       "52                                   African Bead Museum\n",
       "55                                      MotorCity Casino\n",
       "57                         James Scott Memorial Fountain\n",
       "60                             Detroit Repertory Theatre\n",
       "61                                              GM World\n",
       "65                               Better Made Snack Foods\n",
       "73                                           Beacon Park\n",
       "74                                      Greektown Casino\n",
       "76                        Michigan Labor Legacy Monument\n",
       "78                               Lincoln Street Art Park\n",
       "80                                  West Riverfront Park\n",
       "84                                  Solanus Casey Center\n",
       "90                                  Gabriel Richard Park\n",
       "91                                           Palmer Park\n",
       "93                                              Poletown\n",
       "97                    Wayne County Family Aquatic Center\n",
       "98                                      Lafayette Greens\n",
       "100                                 Mount Hazel Cemetery\n",
       "105                            Russell Industrial Center\n",
       "111                                    Ambassador Bridge\n",
       "116                             Midtown Detroit Dog Park\n",
       "117                            Walter P. Reuther Library\n",
       "118                               Matrix Theatre Company\n",
       "119                           Detroit Industrial Gallery\n",
       "120                                       Fisher Mansion\n",
       "121                                    PuppetART Theater\n",
       "123      Swords Into Plowshares Peace Center and Gallery\n",
       "Name: attraction, dtype: object"
      ]
     },
     "execution_count": 16,
     "metadata": {},
     "output_type": "execute_result"
    }
   ],
   "source": [
    "detroit_data_w_clusters = detroit_data.copy()\n",
    "\n",
    "cluster_pipeline = train_model(detroit_data)\n",
    "detroit_data_w_clusters['cluster'] = predict_cluster(detroit_data, cluster_pipeline)\n",
    "\n",
    "sample_attraction = base_data.sample(1)\n",
    "print('random attraction:', sample_attraction['attraction'].values)\n",
    "\n",
    "selected_cluster = predict_cluster(sample_attraction, cluster_pipeline)\n",
    "detroit_data_w_clusters.loc[detroit_data_w_clusters['cluster']==selected_cluster[0], 'attraction']"
   ]
  },
  {
   "cell_type": "code",
   "execution_count": 17,
   "metadata": {},
   "outputs": [
    {
     "ename": "NameError",
     "evalue": "name 'recommendations' is not defined",
     "output_type": "error",
     "traceback": [
      "\u001b[0;31m---------------------------------------------------------------------------\u001b[0m",
      "\u001b[0;31mNameError\u001b[0m                                 Traceback (most recent call last)",
      "\u001b[0;32m<ipython-input-17-4d1c386b2609>\u001b[0m in \u001b[0;36m<module>\u001b[0;34m()\u001b[0m\n\u001b[0;32m----> 1\u001b[0;31m \u001b[0mrecommendations\u001b[0m\u001b[0;34m[\u001b[0m\u001b[0;34m'image'\u001b[0m\u001b[0;34m]\u001b[0m\u001b[0;34m.\u001b[0m\u001b[0msample\u001b[0m\u001b[0;34m(\u001b[0m\u001b[0;36m1\u001b[0m\u001b[0;34m)\u001b[0m\u001b[0;34m\u001b[0m\u001b[0m\n\u001b[0m",
      "\u001b[0;31mNameError\u001b[0m: name 'recommendations' is not defined"
     ]
    }
   ],
   "source": [
    "recommendations['image'].sample(1)"
   ]
  },
  {
   "cell_type": "code",
   "execution_count": 18,
   "metadata": {},
   "outputs": [
    {
     "data": {
      "text/plain": [
       "array([2], dtype=int32)"
      ]
     },
     "execution_count": 18,
     "metadata": {},
     "output_type": "execute_result"
    }
   ],
   "source": [
    "cluster_pipeline.predict(sample_attraction['summary'])"
   ]
  },
  {
   "cell_type": "code",
   "execution_count": 19,
   "metadata": {},
   "outputs": [
    {
     "data": {
      "text/plain": [
       "5    In Disney theme parks, the utilidor system is ...\n",
       "Name: summary, dtype: object"
      ]
     },
     "execution_count": 19,
     "metadata": {},
     "output_type": "execute_result"
    }
   ],
   "source": [
    "sample_attraction['summary']"
   ]
  },
  {
   "cell_type": "code",
   "execution_count": 20,
   "metadata": {},
   "outputs": [
    {
     "data": {
      "text/plain": [
       "array([2, 2, 2, 2, 2, 2, 2, 2, 2, 2, 4, 2, 2, 2, 2, 2, 2, 2, 2, 2, 5, 5,\n",
       "       5, 2, 2, 2, 2, 1, 4, 2, 2, 2, 0, 2, 2, 2, 2, 2, 2, 2, 2, 2, 2, 2,\n",
       "       2, 2, 1, 2, 2, 2, 2, 2, 2, 2, 2, 2, 2, 2, 2, 2, 2, 2, 2, 2, 4, 2,\n",
       "       2, 2, 2, 2, 2, 2, 2, 2, 2, 2, 2, 2, 2, 5, 2, 2, 2, 2, 2, 2, 2, 2,\n",
       "       2, 2, 2, 2, 2, 2, 2, 2, 2, 2, 2, 2, 4, 2, 2, 2, 2, 2, 2, 2, 2, 2,\n",
       "       2, 0, 2, 2, 5, 2, 2, 2, 2, 2, 2, 2, 2, 2, 2, 4, 5, 2, 2, 2, 5, 2,\n",
       "       2, 2, 2, 2, 5, 5, 2, 2, 2, 2, 2, 2, 2, 2, 2, 2, 2, 2, 2, 2, 2, 2,\n",
       "       2, 2, 2, 2, 2, 2, 4, 2, 2, 1, 2, 2, 2, 2, 2, 5, 2], dtype=int32)"
      ]
     },
     "execution_count": 20,
     "metadata": {},
     "output_type": "execute_result"
    }
   ],
   "source": [
    "base_data_w_clusters = base_data.copy()\n",
    "base_data_w_clusters['cluster'] = predict_cluster(base_data_w_clusters, cluster_pipeline)\n",
    "\n",
    "predict_cluster(base_data, cluster_pipeline)"
   ]
  },
  {
   "cell_type": "code",
   "execution_count": 21,
   "metadata": {},
   "outputs": [
    {
     "data": {
      "text/plain": [
       "10           Balboa Park\n",
       "28        Villa Montalvo\n",
       "64         Tiger Stadium\n",
       "100      Multnomah Falls\n",
       "125              Lahaina\n",
       "160    Graceland Mansion\n",
       "Name: attraction, dtype: object"
      ]
     },
     "execution_count": 21,
     "metadata": {},
     "output_type": "execute_result"
    }
   ],
   "source": [
    "base_data_w_clusters.loc[base_data_w_clusters['cluster'] == 4, 'attraction']"
   ]
  },
  {
   "cell_type": "markdown",
   "metadata": {},
   "source": [
    "# With Loop"
   ]
  },
  {
   "cell_type": "code",
   "execution_count": 22,
   "metadata": {},
   "outputs": [],
   "source": [
    "base_data = pd.read_csv(\"base_wiki_data.csv\")\n",
    "detroit_data = pd.read_csv(\"detroit_wiki_data.csv\")"
   ]
  },
  {
   "cell_type": "code",
   "execution_count": 23,
   "metadata": {},
   "outputs": [],
   "source": [
    "recommendations = detroit_data.copy()\n",
    "\n",
    "while len(recommendations) > 15:\n",
    "    cluster_model = train_model(recommendations)\n",
    "    \n",
    "    recommendations_w_clusters = recommendations\n",
    "    recommendations_w_clusters['cluster'] = predict_cluster(recommendations, cluster_model) \n",
    "    \n",
    "    random_location = recommendations_w_clusters.sample(1) # This would happen in java\n",
    "    \n",
    "    recommendations = recommendations_w_clusters.loc[recommendations_w_clusters['cluster'] == random_location['cluster'].values[0], \n",
    "                                                     ['attraction', 'url', 'summary', 'image']].copy()\n",
    "    len(recommendations)"
   ]
  },
  {
   "cell_type": "code",
   "execution_count": 26,
   "metadata": {},
   "outputs": [
    {
     "data": {
      "text/plain": [
       "'https://upload.wikimedia.org/wikipedia/commons/b/b5/BagleyMemorialFountainDetroit.jpg'"
      ]
     },
     "execution_count": 26,
     "metadata": {},
     "output_type": "execute_result"
    }
   ],
   "source": [
    "recommendations['image'].sample(1).values[0]"
   ]
  },
  {
   "cell_type": "code",
   "execution_count": null,
   "metadata": {},
   "outputs": [],
   "source": []
  },
  {
   "cell_type": "code",
   "execution_count": null,
   "metadata": {},
   "outputs": [],
   "source": []
  },
  {
   "cell_type": "code",
   "execution_count": null,
   "metadata": {},
   "outputs": [],
   "source": []
  }
 ],
 "metadata": {
  "kernelspec": {
   "display_name": "Python 3",
   "language": "python",
   "name": "python3"
  },
  "language_info": {
   "codemirror_mode": {
    "name": "ipython",
    "version": 3
   },
   "file_extension": ".py",
   "mimetype": "text/x-python",
   "name": "python",
   "nbconvert_exporter": "python",
   "pygments_lexer": "ipython3",
   "version": "3.6.5"
  }
 },
 "nbformat": 4,
 "nbformat_minor": 2
}
